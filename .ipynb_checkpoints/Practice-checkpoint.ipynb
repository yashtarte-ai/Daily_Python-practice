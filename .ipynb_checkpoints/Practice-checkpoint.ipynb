{
 "cells": [
  {
   "cell_type": "code",
   "execution_count": 2,
   "id": "2d357acc-ac80-4c08-91a1-90364e660e8c",
   "metadata": {},
   "outputs": [
    {
     "name": "stdout",
     "output_type": "stream",
     "text": [
      "hello world\n"
     ]
    }
   ],
   "source": [
    "print('hello world')"
   ]
  },
  {
   "cell_type": "code",
   "execution_count": null,
   "id": "358ae957-acfd-4e66-bcb2-9216106c8917",
   "metadata": {},
   "outputs": [],
   "source": [
    "#1.Write a Python program to calculate the area of a\n",
    "#rectangle given its length and width"
   ]
  },
  {
   "cell_type": "code",
   "execution_count": 30,
   "id": "7ac59a1c-79af-4052-9a9b-72787a87ab5a",
   "metadata": {},
   "outputs": [
    {
     "name": "stdin",
     "output_type": "stream",
     "text": [
      "give length of a rectangle yju\n"
     ]
    },
    {
     "ename": "ValueError",
     "evalue": "could not convert string to float: 'yju'",
     "output_type": "error",
     "traceback": [
      "\u001b[0;31m---------------------------------------------------------------------------\u001b[0m",
      "\u001b[0;31mValueError\u001b[0m                                Traceback (most recent call last)",
      "Cell \u001b[0;32mIn[30], line 1\u001b[0m\n\u001b[0;32m----> 1\u001b[0m user1\u001b[38;5;241m=\u001b[39m\u001b[38;5;28mfloat\u001b[39m(\u001b[38;5;28minput\u001b[39m(\u001b[38;5;124m'\u001b[39m\u001b[38;5;124mgive length of a rectangle\u001b[39m\u001b[38;5;124m'\u001b[39m))\n\u001b[1;32m      2\u001b[0m user2\u001b[38;5;241m=\u001b[39m\u001b[38;5;28mfloat\u001b[39m(\u001b[38;5;28minput\u001b[39m(\u001b[38;5;124m'\u001b[39m\u001b[38;5;124mgive width of a rectangle\u001b[39m\u001b[38;5;124m'\u001b[39m))\n\u001b[1;32m      3\u001b[0m a\u001b[38;5;241m=\u001b[39m(user1\u001b[38;5;241m*\u001b[39muser2)\n",
      "\u001b[0;31mValueError\u001b[0m: could not convert string to float: 'yju'"
     ]
    }
   ],
   "source": [
    "user1=float(input('give length of a rectangle'))\n",
    "user2=float(input('give width of a rectangle'))\n",
    "a=(user1*user2)\n",
    "print(\"Area of triangle is :\",a)"
   ]
  },
  {
   "cell_type": "code",
   "execution_count": 28,
   "id": "92f2b222-7c9e-4ccd-99e9-d5f213d59f9e",
   "metadata": {},
   "outputs": [
    {
     "name": "stdin",
     "output_type": "stream",
     "text": [
      "give length of a rectangle 23\n",
      "give width of a rectangle ya\n"
     ]
    },
    {
     "ename": "ValueError",
     "evalue": "could not convert string to float: 'ya'",
     "output_type": "error",
     "traceback": [
      "\u001b[0;31m---------------------------------------------------------------------------\u001b[0m",
      "\u001b[0;31mValueError\u001b[0m                                Traceback (most recent call last)",
      "Cell \u001b[0;32mIn[28], line 2\u001b[0m\n\u001b[1;32m      1\u001b[0m user1\u001b[38;5;241m=\u001b[39m\u001b[38;5;28mfloat\u001b[39m(\u001b[38;5;28minput\u001b[39m(\u001b[38;5;124m'\u001b[39m\u001b[38;5;124mgive length of a rectangle\u001b[39m\u001b[38;5;124m'\u001b[39m))\n\u001b[0;32m----> 2\u001b[0m user2\u001b[38;5;241m=\u001b[39m\u001b[38;5;28mfloat\u001b[39m(\u001b[38;5;28minput\u001b[39m(\u001b[38;5;124m'\u001b[39m\u001b[38;5;124mgive width of a rectangle\u001b[39m\u001b[38;5;124m'\u001b[39m))\n\u001b[1;32m      3\u001b[0m a\u001b[38;5;241m=\u001b[39m(user1\u001b[38;5;241m*\u001b[39muser2)\n\u001b[1;32m      4\u001b[0m \u001b[38;5;28mprint\u001b[39m(\u001b[38;5;124m\"\u001b[39m\u001b[38;5;124mArea of triangle is :\u001b[39m\u001b[38;5;124m\"\u001b[39m,a)\n",
      "\u001b[0;31mValueError\u001b[0m: could not convert string to float: 'ya'"
     ]
    }
   ],
   "source": [
    "user1=float(input('give length of a rectangle'))\n",
    "user2=float(input('give width of a rectangle'))\n",
    "a=(user1*user2)\n",
    "print(\"Area of triangle is :\",a)\n",
    "if user1&user2==float:\n",
    "    print('forward')\n",
    "else:\n",
    "    print('retry')"
   ]
  },
  {
   "cell_type": "code",
   "execution_count": 39,
   "id": "065b129d-4d6d-45a6-9d4c-5251dabbfdb6",
   "metadata": {},
   "outputs": [
    {
     "name": "stdin",
     "output_type": "stream",
     "text": [
      "Give length of a Triangle 33\n",
      "Give width of a Triangle 33\n"
     ]
    },
    {
     "name": "stdout",
     "output_type": "stream",
     "text": [
      "Area of triangle is ## 1089.0\n"
     ]
    }
   ],
   "source": [
    "user1=input(\"Give length of a Triangle\")\n",
    "user2=input(\"Give width of a Triangle\")\n",
    "if user1.isdigit and user2.isdigit :\n",
    "    user1=float(user1)\n",
    "    user2=float(user2)\n",
    "    a=user1*user2\n",
    "    print(\"Area of triangle is ##\",a)\n",
    "else :\n",
    "    print(\"invalid input\")"
   ]
  },
  {
   "cell_type": "code",
   "execution_count": 40,
   "id": "c3382f90-b446-4dda-b42d-e07baf45259a",
   "metadata": {},
   "outputs": [],
   "source": [
    "# Create a program that takes a user's name and age as\n",
    "# input and prints a greeting message"
   ]
  },
  {
   "cell_type": "code",
   "execution_count": 49,
   "id": "37dadb2b-b5aa-4280-aad5-be80c27fa178",
   "metadata": {},
   "outputs": [
    {
     "name": "stdin",
     "output_type": "stream",
     "text": [
      "Give users name 2\n"
     ]
    },
    {
     "name": "stdout",
     "output_type": "stream",
     "text": [
      "2\n"
     ]
    },
    {
     "name": "stdin",
     "output_type": "stream",
     "text": [
      "Give users Age 2\n"
     ]
    },
    {
     "name": "stdout",
     "output_type": "stream",
     "text": [
      "yash yedazava\n"
     ]
    }
   ],
   "source": [
    "user1=input(\"Give users name\")\n",
    "print(user1)\n",
    "user2=float(input(\"Give users Age\"))\n",
    "if user2>18 :\n",
    "    print(\"Yash sir\")\n",
    "elif user2<18 :\n",
    "    print(\"yash yedazava\")\n",
    "else :\n",
    "    print(\"Thank U\")\n",
    "    "
   ]
  },
  {
   "cell_type": "code",
   "execution_count": null,
   "id": "22ac0b66-8ffa-4cee-9502-49805e9b1e89",
   "metadata": {},
   "outputs": [],
   "source": [
    "# Write a program to check if a number is even or odd "
   ]
  },
  {
   "cell_type": "code",
   "execution_count": 56,
   "id": "db3fe1fe-175a-4b70-8a4f-57359a871077",
   "metadata": {},
   "outputs": [
    {
     "name": "stdin",
     "output_type": "stream",
     "text": [
      "Enter Number value 3\n"
     ]
    },
    {
     "name": "stdout",
     "output_type": "stream",
     "text": [
      "odd\n"
     ]
    }
   ],
   "source": [
    "user1=float(input(\"Enter Number value\"))\n",
    "if user1%2==0:\n",
    "    print('even')\n",
    "else :\n",
    "    print('odd')"
   ]
  },
  {
   "cell_type": "code",
   "execution_count": null,
   "id": "cb1263cc-c6ee-4b61-8939-c367db69a497",
   "metadata": {},
   "outputs": [],
   "source": [
    "# Given a list of numbers, find the maximum and minimum values "
   ]
  },
  {
   "cell_type": "code",
   "execution_count": 68,
   "id": "de33ccd4-5752-4748-b5fd-23fb471f3783",
   "metadata": {},
   "outputs": [
    {
     "name": "stdin",
     "output_type": "stream",
     "text": [
      "a 2\n",
      " 4\n"
     ]
    },
    {
     "name": "stdout",
     "output_type": "stream",
     "text": [
      "B value is greater than A\n"
     ]
    }
   ],
   "source": [
    "a=input(\"a\")\n",
    "b=input(\"b\")\n",
    "if a>b :\n",
    "    print(\"A value is greater than B\")\n",
    "else :\n",
    "    print(\"B value is greater than A\")    "
   ]
  },
  {
   "cell_type": "code",
   "execution_count": 100,
   "id": "32ef520c-fecd-472a-b9ad-1dd41d68ca35",
   "metadata": {},
   "outputs": [],
   "source": [
    "a='monw'\n",
    "b=list(a)\n",
    "b.reverse()"
   ]
  },
  {
   "cell_type": "code",
   "execution_count": 101,
   "id": "37d40ccd-d557-499e-80bc-063e5880cd16",
   "metadata": {},
   "outputs": [
    {
     "data": {
      "text/plain": [
       "\"['w', 'n', 'o', 'm']\""
      ]
     },
     "execution_count": 101,
     "metadata": {},
     "output_type": "execute_result"
    }
   ],
   "source": [
    "c=str(b)\n",
    "c"
   ]
  },
  {
   "cell_type": "code",
   "execution_count": 102,
   "id": "7051a4da-47bc-4fc1-ab46-b5ccae81fd1d",
   "metadata": {},
   "outputs": [],
   "source": [
    "a1='mon'"
   ]
  },
  {
   "cell_type": "code",
   "execution_count": 103,
   "id": "e0f655f9-93a9-4d1e-8f91-09ef45381fcb",
   "metadata": {},
   "outputs": [
    {
     "data": {
      "text/plain": [
       "'mon'"
      ]
     },
     "execution_count": 103,
     "metadata": {},
     "output_type": "execute_result"
    }
   ],
   "source": [
    "a1"
   ]
  },
  {
   "cell_type": "code",
   "execution_count": 104,
   "id": "ccbed911-d257-42e9-aaad-e49f2999165d",
   "metadata": {},
   "outputs": [],
   "source": [
    "b1=list(a1)"
   ]
  },
  {
   "cell_type": "code",
   "execution_count": 105,
   "id": "cd496c09-f740-4096-8f8a-12d74db85207",
   "metadata": {},
   "outputs": [
    {
     "data": {
      "text/plain": [
       "['m', 'o', 'n']"
      ]
     },
     "execution_count": 105,
     "metadata": {},
     "output_type": "execute_result"
    }
   ],
   "source": [
    "b1"
   ]
  },
  {
   "cell_type": "code",
   "execution_count": 106,
   "id": "f094a551-6d70-4002-910d-6a9ee40b0cb8",
   "metadata": {},
   "outputs": [],
   "source": [
    "b1.reverse()"
   ]
  },
  {
   "cell_type": "code",
   "execution_count": 107,
   "id": "6e6bec2c-8bf5-446e-9a64-5d3539ad791c",
   "metadata": {},
   "outputs": [
    {
     "data": {
      "text/plain": [
       "['n', 'o', 'm']"
      ]
     },
     "execution_count": 107,
     "metadata": {},
     "output_type": "execute_result"
    }
   ],
   "source": [
    "b1"
   ]
  },
  {
   "cell_type": "code",
   "execution_count": 112,
   "id": "0beed156-419a-41f7-9ef6-af3303ba6278",
   "metadata": {},
   "outputs": [
    {
     "data": {
      "text/plain": [
       "'mon'"
      ]
     },
     "execution_count": 112,
     "metadata": {},
     "output_type": "execute_result"
    }
   ],
   "source": [
    "b1=str(a1)\n",
    "a1"
   ]
  },
  {
   "cell_type": "code",
   "execution_count": null,
   "id": "00b1f5fb-d171-4e31-bf5f-1f043ba921eb",
   "metadata": {},
   "outputs": [],
   "source": [
    "# Create a Python function to check if a given string is a palindrome"
   ]
  },
  {
   "cell_type": "code",
   "execution_count": 115,
   "id": "46737a30-e975-468c-94bf-719c81d29f6d",
   "metadata": {},
   "outputs": [
    {
     "name": "stdin",
     "output_type": "stream",
     "text": [
      "give name mom\n"
     ]
    },
    {
     "name": "stdout",
     "output_type": "stream",
     "text": [
      "Its a palindrome\n"
     ]
    }
   ],
   "source": [
    "a2=input(\"give name\")\n",
    "c=a2.replace(\" \",\" \").lower()\n",
    "if c==c[::-1]:\n",
    "    print(\"Its a palindrome\")\n",
    "else:\n",
    "    print (\"its not a palindrome\")"
   ]
  },
  {
   "cell_type": "code",
   "execution_count": null,
   "id": "a21e1789-30d0-443c-96a8-f65958dc9094",
   "metadata": {},
   "outputs": [],
   "source": []
  },
  {
   "cell_type": "code",
   "execution_count": 116,
   "id": "3600f4f2-30bd-4d6a-8620-7df290a42d94",
   "metadata": {},
   "outputs": [],
   "source": []
  },
  {
   "cell_type": "code",
   "execution_count": 123,
   "id": "fa7c3d13-558a-44cf-b34f-a9e47f0b2226",
   "metadata": {},
   "outputs": [
    {
     "name": "stdin",
     "output_type": "stream",
     "text": [
      "Enter the output moment\n"
     ]
    },
    {
     "name": "stdout",
     "output_type": "stream",
     "text": [
      "Not\n"
     ]
    }
   ],
   "source": [
    "a=input(\"Enter the output\")\n",
    "c=a[::-1]\n",
    "if a==c:\n",
    "    print(\"Plan\")\n",
    "else:\n",
    "    print(\"Not\")"
   ]
  },
  {
   "cell_type": "code",
   "execution_count": null,
   "id": "cf6c99e6-5959-4d48-a636-d7cbb39a671c",
   "metadata": {},
   "outputs": [],
   "source": []
  },
  {
   "cell_type": "code",
   "execution_count": null,
   "id": "b6580032-1823-4da5-91c2-e97500f0d8d9",
   "metadata": {},
   "outputs": [],
   "source": [
    "# Calculate the compound interest for a given principal              ## UNSOLVED\n",
    "# amount, interest rate, and time period "
   ]
  },
  {
   "cell_type": "code",
   "execution_count": null,
   "id": "d7fb5104-eb99-48ae-967b-725d36fb751c",
   "metadata": {},
   "outputs": [],
   "source": [
    "\n"
   ]
  },
  {
   "cell_type": "code",
   "execution_count": null,
   "id": "b015a7b0-2300-48a6-9706-f8a2a32a18e8",
   "metadata": {},
   "outputs": [],
   "source": [
    "# Write a program that converts a given number of days\n",
    "# into years, weeks, and days "
   ]
  },
  {
   "cell_type": "code",
   "execution_count": null,
   "id": "9f04f48f-5ac6-43a7-bc63-f7792a563369",
   "metadata": {},
   "outputs": [],
   "source": [
    "a=[3,1,5,2]\n",
    "a="
   ]
  },
  {
   "cell_type": "code",
   "execution_count": 135,
   "id": "2ecedffa-6736-4e02-b4e7-dbdbfe18a5ea",
   "metadata": {},
   "outputs": [],
   "source": [
    "# Given a list of integers, find the sum of all positive\n",
    "# numbers "
   ]
  },
  {
   "cell_type": "code",
   "execution_count": 138,
   "id": "a8b9aa8c-fba9-45c8-b9c0-0e84642018f8",
   "metadata": {},
   "outputs": [],
   "source": []
  },
  {
   "cell_type": "code",
   "execution_count": 168,
   "id": "839841de-05d5-41c5-bc78-fbc26b9560d5",
   "metadata": {},
   "outputs": [
    {
     "name": "stdout",
     "output_type": "stream",
     "text": [
      "59\n",
      "-1234562345678765434572\n"
     ]
    }
   ],
   "source": [
    "xm=[1,-3,-2,28,-1234562345678765434567,30,00,0]\n",
    "p=0\n",
    "n=0\n",
    "for yash in xm:\n",
    "    if yash>0:\n",
    "         p=p+yash\n",
    "    elif yash<0:\n",
    "         n=n+yash\n",
    "print(p)\n",
    "print(n)"
   ]
  },
  {
   "cell_type": "code",
   "execution_count": 169,
   "id": "a08fcd0c-a53a-4fc9-a0a1-39929d5f9e5e",
   "metadata": {},
   "outputs": [
    {
     "name": "stdout",
     "output_type": "stream",
     "text": [
      "yes\n"
     ]
    }
   ],
   "source": [
    "a=[2,1]\n",
    "if 2 in a:\n",
    "    print(\"yes\")"
   ]
  },
  {
   "cell_type": "code",
   "execution_count": 173,
   "id": "cd49bbc0-849b-4134-a8ff-bc84ac6c48eb",
   "metadata": {},
   "outputs": [
    {
     "name": "stdout",
     "output_type": "stream",
     "text": [
      "[2, 3, 34, 555]\n",
      "[-1, -2, -2345]\n"
     ]
    }
   ],
   "source": [
    "a=[2,3,-1,-2,34,555,-2345]\n",
    "p=[]\n",
    "n=[]\n",
    "for i in a:\n",
    "    if i>0:\n",
    "        p.append(i)\n",
    "    elif i<0:\n",
    "        n.append(i)\n",
    "print(p)\n",
    "print(n)"
   ]
  },
  {
   "cell_type": "code",
   "execution_count": null,
   "id": "68541d1d-1af7-465f-8d51-f3d1df340114",
   "metadata": {},
   "outputs": [],
   "source": []
  }
 ],
 "metadata": {
  "kernelspec": {
   "display_name": "Python [conda env:base] *",
   "language": "python",
   "name": "conda-base-py"
  },
  "language_info": {
   "codemirror_mode": {
    "name": "ipython",
    "version": 3
   },
   "file_extension": ".py",
   "mimetype": "text/x-python",
   "name": "python",
   "nbconvert_exporter": "python",
   "pygments_lexer": "ipython3",
   "version": "3.12.7"
  }
 },
 "nbformat": 4,
 "nbformat_minor": 5
}
